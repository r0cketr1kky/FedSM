{
  "nbformat": 4,
  "nbformat_minor": 0,
  "metadata": {
    "colab": {
      "name": "FedMed_MNISTtrials_25w.ipynb",
      "provenance": [],
      "collapsed_sections": [
        "ctjRsETiO1qO",
        "L-aNdQsQ-Kvp"
      ],
      "machine_shape": "hm",
      "include_colab_link": true
    },
    "kernelspec": {
      "name": "python3",
      "display_name": "Python 3"
    },
    "accelerator": "GPU"
  },
  "cells": [
    {
      "cell_type": "markdown",
      "metadata": {
        "id": "view-in-github",
        "colab_type": "text"
      },
      "source": [
        "<a href=\"https://colab.research.google.com/github/r0cketr1kky/FedSM/blob/master/FedMed_MNISTtrials_24w.ipynb\" target=\"_parent\"><img src=\"https://colab.research.google.com/assets/colab-badge.svg\" alt=\"Open In Colab\"/></a>"
      ]
    },
    {
      "cell_type": "code",
      "metadata": {
        "id": "DLLNM9X2JbQ8",
        "colab_type": "code",
        "colab": {
          "base_uri": "https://localhost:8080/",
          "height": 357
        },
        "outputId": "29d52a9c-8e2a-4c2f-8ea2-0d8153b3186d"
      },
      "source": [
        "%load_ext tensorboard\n",
        "import os\n",
        "import numpy as np\n",
        "import matplotlib\n",
        "import matplotlib.pyplot as plt\n",
        "import copy\n",
        "import random\n",
        "import time\n",
        "\n",
        "import torch\n",
        "import torch.nn as nn\n",
        "import torch.nn.functional as F\n",
        "\n",
        "from torch.utils.data import Dataset, DataLoader\n",
        "from torch.utils.tensorboard import SummaryWriter\n",
        "from torchvision import transforms, utils, datasets\n",
        "from torchsummary import summary\n",
        "\n",
        "\n",
        "# Check assigned GPU\n",
        "gpu_info = !nvidia-smi\n",
        "gpu_info = '\\n'.join(gpu_info)\n",
        "if gpu_info.find('failed') >= 0:\n",
        "  print('Select the Runtime > \"Change runtime type\" menu to enable a GPU accelerator, ')\n",
        "  print('and then re-execute this cell.')\n",
        "else:\n",
        "  print(gpu_info)\n",
        "\n",
        "# set manual seed for reproducibility\n",
        "seed = 42\n",
        "\n",
        "# general reproducibility\n",
        "random.seed(seed)\n",
        "np.random.seed(seed)\n",
        "torch.manual_seed(seed)\n",
        "\n",
        "# gpu training specific\n",
        "torch.backends.cudnn.deterministic = True\n",
        "torch.backends.cudnn.benchmark = False"
      ],
      "execution_count": 1,
      "outputs": [
        {
          "output_type": "stream",
          "text": [
            "Mon Sep 21 15:44:54 2020       \n",
            "+-----------------------------------------------------------------------------+\n",
            "| NVIDIA-SMI 450.66       Driver Version: 418.67       CUDA Version: 10.1     |\n",
            "|-------------------------------+----------------------+----------------------+\n",
            "| GPU  Name        Persistence-M| Bus-Id        Disp.A | Volatile Uncorr. ECC |\n",
            "| Fan  Temp  Perf  Pwr:Usage/Cap|         Memory-Usage | GPU-Util  Compute M. |\n",
            "|                               |                      |               MIG M. |\n",
            "|===============================+======================+======================|\n",
            "|   0  Tesla P100-PCIE...  Off  | 00000000:00:04.0 Off |                    0 |\n",
            "| N/A   36C    P0    28W / 250W |      0MiB / 16280MiB |      0%      Default |\n",
            "|                               |                      |                 ERR! |\n",
            "+-------------------------------+----------------------+----------------------+\n",
            "                                                                               \n",
            "+-----------------------------------------------------------------------------+\n",
            "| Processes:                                                                  |\n",
            "|  GPU   GI   CI        PID   Type   Process name                  GPU Memory |\n",
            "|        ID   ID                                                   Usage      |\n",
            "|=============================================================================|\n",
            "|  No running processes found                                                 |\n",
            "+-----------------------------------------------------------------------------+\n"
          ],
          "name": "stdout"
        }
      ]
    },
    {
      "cell_type": "markdown",
      "metadata": {
        "id": "NY4eWzGiL6Mj",
        "colab_type": "text"
      },
      "source": [
        "## Load the MNIST Dataset"
      ]
    },
    {
      "cell_type": "code",
      "metadata": {
        "id": "G649tjTXLL8F",
        "colab_type": "code",
        "colab": {}
      },
      "source": [
        "# create transforms\n",
        "# We will just convert to tensor and normalize since no special transforms are mentioned in the paper\n",
        "transforms_mnist = transforms.Compose([\n",
        "                                       transforms.ToTensor(),\n",
        "                                       transforms.Normalize((0.1307,), (0.3081,))\n",
        "                                       ])\n",
        "\n",
        "mnist_data_train = datasets.MNIST('./data/mnist/', train=True, download=True, transform=transforms_mnist)\n",
        "mnist_data_test = datasets.MNIST('../data/mnist/', train=False, download=True, transform=transforms_mnist)"
      ],
      "execution_count": 2,
      "outputs": []
    },
    {
      "cell_type": "code",
      "metadata": {
        "id": "dm9usjn2vFkL",
        "colab_type": "code",
        "colab": {
          "base_uri": "https://localhost:8080/",
          "height": 51
        },
        "outputId": "abf1da46-0bf2-4c05-80c7-3fd791270023"
      },
      "source": [
        "classes = np.array(list(mnist_data_train.class_to_idx.values()))\n",
        "classes_test = np.array(list(mnist_data_test.class_to_idx.values()))\n",
        "num_classes = len(classes_test)\n",
        "print(\"Classes: {} \\tType: {}\".format(classes, type(classes)))\n",
        "print(\"Classes Test: {} \\tType: {}\".format(classes_test, type(classes)))\n"
      ],
      "execution_count": 3,
      "outputs": [
        {
          "output_type": "stream",
          "text": [
            "Classes: [0 1 2 3 4 5 6 7 8 9] \tType: <class 'numpy.ndarray'>\n",
            "Classes Test: [0 1 2 3 4 5 6 7 8 9] \tType: <class 'numpy.ndarray'>\n"
          ],
          "name": "stdout"
        }
      ]
    },
    {
      "cell_type": "code",
      "metadata": {
        "id": "MRKHqXK-OFDZ",
        "colab_type": "code",
        "colab": {
          "base_uri": "https://localhost:8080/",
          "height": 34
        },
        "outputId": "f31b644a-5cdf-4f17-87c6-4d8ec064e77b"
      },
      "source": [
        "type(mnist_data_train.data)"
      ],
      "execution_count": 4,
      "outputs": [
        {
          "output_type": "execute_result",
          "data": {
            "text/plain": [
              "torch.Tensor"
            ]
          },
          "metadata": {
            "tags": []
          },
          "execution_count": 4
        }
      ]
    },
    {
      "cell_type": "code",
      "metadata": {
        "id": "9lvJt3Ofv2SO",
        "colab_type": "code",
        "colab": {
          "base_uri": "https://localhost:8080/",
          "height": 34
        },
        "outputId": "5d618efa-d42e-4969-f3dd-751a0f1cf471"
      },
      "source": [
        "print(\"Image Shape: {}\".format(mnist_data_train.data.size()))"
      ],
      "execution_count": 5,
      "outputs": [
        {
          "output_type": "stream",
          "text": [
            "Image Shape: torch.Size([60000, 28, 28])\n"
          ],
          "name": "stdout"
        }
      ]
    },
    {
      "cell_type": "markdown",
      "metadata": {
        "id": "jCOONkg-zV7Y",
        "colab_type": "text"
      },
      "source": [
        "## Visualize Data"
      ]
    },
    {
      "cell_type": "code",
      "metadata": {
        "id": "R9MK03TZw6Qs",
        "colab_type": "code",
        "colab": {}
      },
      "source": [
        "def imshow(img):\n",
        "\timg = img/2 + 0.5 #unnormalize the image\n",
        "\tplt.imshow(img, cmap='gray') # convert from tensor to image"
      ],
      "execution_count": 6,
      "outputs": []
    },
    {
      "cell_type": "code",
      "metadata": {
        "id": "gMJ0Kx4Kw-_H",
        "colab_type": "code",
        "colab": {}
      },
      "source": [
        "def visualize(dataset):\n",
        "  figure = plt.figure(figsize=(25,4))\n",
        "  for i in range(20):\n",
        "    axis = figure.add_subplot(2, 20/2, i+1, xticks=[], yticks=[])\n",
        "    data = dataset.data[i]\n",
        "    data = data.numpy()\n",
        "\n",
        "    target = dataset.targets[i]\n",
        "    target = target.numpy()\n",
        "    imshow(data)\n",
        "    axis.set_title(target)\n"
      ],
      "execution_count": 7,
      "outputs": []
    },
    {
      "cell_type": "code",
      "metadata": {
        "id": "8bPOwKg10Ro7",
        "colab_type": "code",
        "colab": {
          "base_uri": "https://localhost:8080/",
          "height": 229
        },
        "outputId": "3416a363-ccf8-4da7-be32-6da468223150"
      },
      "source": [
        "visualize(mnist_data_train)"
      ],
      "execution_count": 8,
      "outputs": [
        {
          "output_type": "display_data",
          "data": {
            "image/png": "[encoded data removed]",
            "text/plain": [
              "<Figure size 1800x288 with 20 Axes>"
            ]
          },
          "metadata": {
            "tags": []
          }
        }
      ]
    },
    {
      "cell_type": "code",
      "metadata": {
        "id": "RKoh5Cf70UYu",
        "colab_type": "code",
        "colab": {
          "base_uri": "https://localhost:8080/",
          "height": 229
        },
        "outputId": "b4bef2ab-644c-49e1-c1f5-06c3440a6c8e"
      },
      "source": [
        "visualize(mnist_data_test)"
      ],
      "execution_count": 9,
      "outputs": [
        {
          "output_type": "display_data",
          "data": {
            "image/png": "[encoded data removed]",
            "text/plain": [
              "<Figure size 1800x288 with 20 Axes>"
            ]
          },
          "metadata": {
            "tags": []
          }
        }
      ]
    },
    {
      "cell_type": "markdown",
      "metadata": {
        "id": "ctjRsETiO1qO",
        "colab_type": "text"
      },
      "source": [
        "## Partitioning the Data (IID and non-IID)"
      ]
    },
    {
      "cell_type": "code",
      "metadata": {
        "id": "3_v8lyrgO5dD",
        "colab_type": "code",
        "colab": {}
      },
      "source": [
        "def iid_partition(dataset, clients):\n",
        "  \"\"\"\n",
        "  I.I.D paritioning of data over clients\n",
        "  Shuffle the data\n",
        "  Split it between clients\n",
        "  \n",
        "  params:\n",
        "    - dataset (torch.utils.Dataset): Dataset containing the MNIST Images\n",
        "    - clients (int): Number of Clients to split the data between\n",
        "\n",
        "  returns:\n",
        "    - Dictionary of image indexes for each client\n",
        "  \"\"\"\n",
        "\n",
        "  num_items_per_client = int(len(dataset)/clients)\n",
        "  client_dict = {}\n",
        "  image_idxs = [i for i in range(len(dataset))]\n",
        "\n",
        "  for i in range(clients):\n",
        "    client_dict[i] = set(np.random.choice(image_idxs, num_items_per_client, replace=False))\n",
        "    image_idxs = list(set(image_idxs) - client_dict[i])\n",
        "\n",
        "  return client_dict"
      ],
      "execution_count": 10,
      "outputs": []
    },
    {
      "cell_type": "code",
      "metadata": {
        "id": "4zMdliGMQoSl",
        "colab_type": "code",
        "colab": {}
      },
      "source": [
        "def non_iid_partition(dataset, clients, total_shards, shards_size, num_shards_per_client):\n",
        "  \"\"\"\n",
        "  non I.I.D parititioning of data over clients\n",
        "  Sort the data by the digit label\n",
        "  Divide the data into N shards of size S\n",
        "  Each of the clients will get X shards\n",
        "\n",
        "  params:\n",
        "    - dataset (torch.utils.Dataset): Dataset containing the MNIST Images\n",
        "    - clients (int): Number of Clients to split the data between\n",
        "    - total_shards (int): Number of shards to partition the data in\n",
        "    - shards_size (int): Size of each shard \n",
        "    - num_shards_per_client (int): Number of shards of size shards_size that each client receives\n",
        "\n",
        "  returns:\n",
        "    - Dictionary of image indexes for each client\n",
        "  \"\"\"\n",
        "  \n",
        "  shard_idxs = [i for i in range(total_shards)]\n",
        "  client_dict = {i: np.array([], dtype='int64') for i in range(clients)}\n",
        "  idxs = np.arange(len(dataset))\n",
        "  data_labels = dataset.targets.numpy()\n",
        "\n",
        "  # sort the labels\n",
        "  label_idxs = np.vstack((idxs, data_labels))\n",
        "  label_idxs = label_idxs[:, label_idxs[1,:].argsort()]\n",
        "  idxs = label_idxs[0,:]\n",
        "\n",
        "  # divide the data into total_shards of size shards_size\n",
        "  # assign num_shards_per_client to each client\n",
        "  for i in range(clients):\n",
        "    rand_set = set(np.random.choice(shard_idxs, num_shards_per_client, replace=False))\n",
        "    shard_idxs = list(set(shard_idxs) - rand_set)\n",
        "\n",
        "    for rand in rand_set:\n",
        "      client_dict[i] = np.concatenate((client_dict[i], idxs[rand*shards_size:(rand+1)*shards_size]), axis=0)\n",
        "  \n",
        "  return client_dict\n",
        "\n",
        "\n",
        "\n"
      ],
      "execution_count": 11,
      "outputs": []
    },
    {
      "cell_type": "markdown",
      "metadata": {
        "id": "PTfxv8kFoGAy",
        "colab_type": "text"
      },
      "source": [
        "## Models"
      ]
    },
    {
      "cell_type": "code",
      "metadata": {
        "id": "CvoDNFKbZST5",
        "colab_type": "code",
        "colab": {}
      },
      "source": [
        "class MNIST_2NN(nn.Module):\n",
        "  \"\"\"\n",
        "  A simple multilayer-perceptron with 2-hidden layers with 200 units each\n",
        "  using ReLu activations\n",
        "\n",
        "  Total Expected Params: 199,210\n",
        "  \"\"\"\n",
        "  def __init__(self):\n",
        "    super(MNIST_2NN, self).__init__()\n",
        "\n",
        "    self.fc1 = nn.Linear(28*28, 200)\n",
        "    self.fc2 = nn.Linear(200, 200)\n",
        "    self.fc3 = nn.Linear(200, 10)\n",
        "\n",
        "  def forward(self, x):\n",
        "    x = torch.flatten(x, 1)\n",
        "    x = F.relu(self.fc1(x))\n",
        "    x = F.relu(self.fc2(x))\n",
        "    out = self.fc3(x)\n",
        "\n",
        "    return x"
      ],
      "execution_count": 12,
      "outputs": []
    },
    {
      "cell_type": "code",
      "metadata": {
        "id": "ut1hZ8x3qYPZ",
        "colab_type": "code",
        "colab": {}
      },
      "source": [
        "class MNIST_CNN(nn.Module):\n",
        "  \"\"\"\n",
        "  CNN with two 5x5 convolution lauers(the first with 32 channels, second with 64,\n",
        "  each followed with 2x2 max pooling), a fully connected layer with 512 uunits and \n",
        "  ReLu activation, and the final Softmax output layer\n",
        "\n",
        "  Total Expected Params: 1,663,370\n",
        "  \"\"\"\n",
        "  def __init__(self):\n",
        "    super(MNIST_CNN, self).__init__()\n",
        "\n",
        "    self.conv1 = nn.Conv2d(1, 32, kernel_size=5)\n",
        "    self.conv2 = nn.Conv2d(32, 64, kernel_size=5)\n",
        "    \n",
        "    self.pool = nn.MaxPool2d(2,2)\n",
        "    self.dropout = nn.Dropout(p=0.2)\n",
        "\n",
        "    self.fc1 = nn.Linear(1024, 512)\n",
        "    self.out = nn.Linear(512, 10)\n",
        "\n",
        "  def forward(self, x):\n",
        "    x = self.pool(F.relu(self.conv1(x)))\n",
        "    x = self.pool(F.relu(self.conv2(x)))\n",
        "    x = self.dropout(x)\n",
        "    x = torch.flatten(x, 1)\n",
        "    x = F.relu(self.fc1(x))\n",
        "    x = self.out(x)\n",
        "    out = F.log_softmax(x, dim=1)\n",
        "\n",
        "    return out"
      ],
      "execution_count": 13,
      "outputs": []
    },
    {
      "cell_type": "markdown",
      "metadata": {
        "id": "uVv4HA9HuLtr",
        "colab_type": "text"
      },
      "source": [
        "### Print Model Summaries"
      ]
    },
    {
      "cell_type": "code",
      "metadata": {
        "id": "I5oTH710sJEt",
        "colab_type": "code",
        "colab": {
          "base_uri": "https://localhost:8080/",
          "height": 714
        },
        "outputId": "f831d2b0-a4be-497a-ca90-3b4f785bc9d8"
      },
      "source": [
        "mnist_mlp = MNIST_2NN()\n",
        "mnist_cnn = MNIST_CNN()\n",
        "\n",
        "if torch.cuda.is_available():\n",
        "  mnist_mlp.cuda()\n",
        "  mnist_cnn.cuda()\n",
        "\n",
        "print(\"MNIST MLP SUMMARY\")\n",
        "print(summary(mnist_mlp, (28,28)))\n",
        "\n",
        "print(\"\\nMNIST CNN SUMMARY\")\n",
        "print(summary(mnist_cnn, (1, 28,28)))"
      ],
      "execution_count": 14,
      "outputs": [
        {
          "output_type": "stream",
          "text": [
            "MNIST MLP SUMMARY\n",
            "----------------------------------------------------------------\n",
            "        Layer (type)               Output Shape         Param #\n",
            "================================================================\n",
            "            Linear-1                  [-1, 200]         157,000\n",
            "            Linear-2                  [-1, 200]          40,200\n",
            "            Linear-3                   [-1, 10]           2,010\n",
            "================================================================\n",
            "Total params: 199,210\n",
            "Trainable params: 199,210\n",
            "Non-trainable params: 0\n",
            "----------------------------------------------------------------\n",
            "Input size (MB): 0.00\n",
            "Forward/backward pass size (MB): 0.00\n",
            "Params size (MB): 0.76\n",
            "Estimated Total Size (MB): 0.77\n",
            "----------------------------------------------------------------\n",
            "None\n",
            "\n",
            "MNIST CNN SUMMARY\n",
            "----------------------------------------------------------------\n",
            "        Layer (type)               Output Shape         Param #\n",
            "================================================================\n",
            "            Conv2d-1           [-1, 32, 24, 24]             832\n",
            "         MaxPool2d-2           [-1, 32, 12, 12]               0\n",
            "            Conv2d-3             [-1, 64, 8, 8]          51,264\n",
            "         MaxPool2d-4             [-1, 64, 4, 4]               0\n",
            "           Dropout-5             [-1, 64, 4, 4]               0\n",
            "            Linear-6                  [-1, 512]         524,800\n",
            "            Linear-7                   [-1, 10]           5,130\n",
            "================================================================\n",
            "Total params: 582,026\n",
            "Trainable params: 582,026\n",
            "Non-trainable params: 0\n",
            "----------------------------------------------------------------\n",
            "Input size (MB): 0.00\n",
            "Forward/backward pass size (MB): 0.23\n",
            "Params size (MB): 2.22\n",
            "Estimated Total Size (MB): 2.45\n",
            "----------------------------------------------------------------\n",
            "None\n"
          ],
          "name": "stdout"
        }
      ]
    },
    {
      "cell_type": "markdown",
      "metadata": {
        "id": "gf_8XEXa-gZ7",
        "colab_type": "text"
      },
      "source": [
        "## Federated Averaging"
      ]
    },
    {
      "cell_type": "markdown",
      "metadata": {
        "id": "L-aNdQsQ-Kvp",
        "colab_type": "text"
      },
      "source": [
        "### Local Training (Client Update)\n",
        "\n",
        "Local training for the model on client side"
      ]
    },
    {
      "cell_type": "code",
      "metadata": {
        "id": "oX6OsQyO-Gz7",
        "colab_type": "code",
        "colab": {}
      },
      "source": [
        "class CustomDataset(Dataset):\n",
        "  def __init__(self, dataset, idxs):\n",
        "      self.dataset = dataset\n",
        "      self.idxs = list(idxs)\n",
        "\n",
        "  def __len__(self):\n",
        "      return len(self.idxs)\n",
        "\n",
        "  def __getitem__(self, item):\n",
        "      image, label = self.dataset[self.idxs[item]]\n",
        "      return image, label\n",
        "\n",
        "class ClientUpdate(object):\n",
        "  def __init__(self, dataset, batchSize, learning_rate, epochs, idxs):\n",
        "    self.train_loader = DataLoader(CustomDataset(dataset, idxs), batch_size=batchSize, shuffle=True)\n",
        "\n",
        "    self.learning_rate = learning_rate\n",
        "    self.epochs = epochs\n",
        "\n",
        "  def train(self, model):\n",
        "\n",
        "    criterion = nn.CrossEntropyLoss()\n",
        "    optimizer = torch.optim.SGD(model.parameters(), lr=self.learning_rate, momentum=0.5)\n",
        "    # optimizer = torch.optim.Adam(model.parameters(), lr=self.learning_rate)\n",
        "\n",
        "    e_loss = []\n",
        "    for epoch in range(1, self.epochs+1):\n",
        "\n",
        "      train_loss = 0.0\n",
        "\n",
        "      model.train()\n",
        "      for data, labels in self.train_loader:\n",
        "\n",
        "        if torch.cuda.is_available():\n",
        "          data, labels = data.cuda(), labels.cuda()\n",
        "\n",
        "        # clear the gradients\n",
        "        optimizer.zero_grad()\n",
        "        # make a forward pass\n",
        "        output = model(data)\n",
        "        # calculate the loss\n",
        "        loss = criterion(output, labels)\n",
        "        # do a backwards pass\n",
        "        loss.backward()\n",
        "        # perform a single optimization step\n",
        "        optimizer.step()\n",
        "        # update training loss\n",
        "        train_loss += loss.item()*data.size(0)\n",
        "\n",
        "      # average losses\n",
        "      train_loss = train_loss/len(self.train_loader.dataset)\n",
        "      e_loss.append(train_loss)\n",
        "\n",
        "    total_loss = sum(e_loss)/len(e_loss)\n",
        "\n",
        "    return model.state_dict(), total_loss"
      ],
      "execution_count": 15,
      "outputs": []
    },
    {
      "cell_type": "markdown",
      "metadata": {
        "id": "Ukgh1DVHE2Ds",
        "colab_type": "text"
      },
      "source": [
        "### Server Side Training\n",
        "\n",
        "Following Algorithm 1 from the paper"
      ]
    },
    {
      "cell_type": "code",
      "metadata": {
        "id": "G70BcyeSZy6c",
        "colab_type": "code",
        "colab": {}
      },
      "source": [
        "def streamingMedian(seq):\n",
        "\n",
        "\trandom.shuffle(seq)\n",
        " \n",
        "\tm = 0\n",
        "\n",
        "\tfor nextElt in seq:\n",
        "\t\tif m > nextElt:\n",
        "\t\t\tm -= 1\n",
        "\t\telif m < nextElt:\n",
        "\t\t\tm += 1\n",
        "\n",
        "\treturn m"
      ],
      "execution_count": 16,
      "outputs": []
    },
    {
      "cell_type": "code",
      "metadata": {
        "id": "1NF1e33BgpeL",
        "colab_type": "code",
        "colab": {}
      },
      "source": [
        "from torch.autograd import Variable\n",
        "\n",
        "def training(model, rounds, batch_size, lr, ds, data_dict, C, K, E, plt_title, plt_color):\n",
        "  \"\"\"\n",
        "  Function implements the Federated Averaging Algorithm from the FedAvg paper.\n",
        "  Specifically, this function is used for the server side training and weight update\n",
        "\n",
        "  Params:\n",
        "    - model:           PyTorch model to train\n",
        "    - rounds:          Number of communication rounds for the client update\n",
        "    - batch_size:      Batch size for client update training\n",
        "    - lr:              Learning rate used for client update training\n",
        "    - ds:              Dataset used for training\n",
        "    - data_dict:       Type of data partition used for training (IID or non-IID)\n",
        "    - C:               Fraction of clients randomly chosen to perform computation on each round\n",
        "    - K:               Total number of clients\n",
        "    - E:               Number of training passes each client makes over its local dataset per round\n",
        "    - tb_writer_name:  Directory name to save the tensorboard logs\n",
        "  Returns:\n",
        "    - model:           Trained model on the server\n",
        "  \"\"\"\n",
        "\n",
        "  # global model weights\n",
        "  global_weights = model.state_dict()\n",
        "\n",
        "  # training loss\n",
        "  train_loss = []\n",
        "  \n",
        "  # measure time\n",
        "  start = time.time()\n",
        "\n",
        "  for curr_round in range(1, rounds+1):\n",
        "    w, local_loss = [], []\n",
        "\n",
        "    m = max(int(C*K), 1)\n",
        "    \n",
        "    S_t = np.random.choice(range(K), m, replace=False)\n",
        "    #print(S_t)\n",
        "\n",
        "    for k in range(len(S_t)):\n",
        "      if k % 2 == 0:\n",
        "        local_update1 = ClientUpdate(dataset=ds, batchSize=batch_size, learning_rate=lr, epochs=E, idxs=data_dict[S_t[k]])\n",
        "        weights1, loss1 = local_update1.train(model=copy.deepcopy(model))\n",
        "\n",
        "        local_update2 = ClientUpdate(dataset=ds, batchSize=batch_size, learning_rate=lr, epochs=E, idxs=data_dict[S_t[k+1]])\n",
        "        weights2, loss2 = local_update2.train(model=copy.deepcopy(model))\n",
        "\n",
        "        w.append(copy.deepcopy(weights1))\n",
        "        local_loss.append(copy.deepcopy(loss1))\n",
        "\n",
        "        w.append(copy.deepcopy(weights2))\n",
        "        local_loss.append(copy.deepcopy(loss2))\n",
        "\n",
        "    #print(w[0])\n",
        "    ix = 0\n",
        "    weights = []\n",
        "    new_w = w\n",
        "    for k in w[ix].keys():\n",
        "      l1 = []\n",
        "      for i in range(len(w)):\n",
        "        if i % 2 == 0:\n",
        "          # Add/Subtract noise\n",
        "          noise = Variable(w[i][k].data.new(w[i][k].size()).uniform_(-1, 1))\n",
        "          w[i][k] = w[i][k] + (noise/(10**2))\n",
        "          w[i+1][k] = w[i+1][k] - ((noise/10**2))\n",
        "          #print(w[i][k].size())\n",
        "\n",
        "          # Fixed Precision\n",
        "          x1 = w[i+1][k] * (10**3)\n",
        "          x2 = w[i+1][k] * (10**3) \n",
        "\n",
        "          # Flattening weight tensors to lists\n",
        "          f1 = torch.flatten(x1)\n",
        "          f2 = torch.flatten(x2)\n",
        "          \n",
        "          # Converting values to int for our streaming algo \n",
        "          f1 = list(map(int, f1))\n",
        "          f2 = list(map(int, f2))\n",
        "\n",
        "          l1.append(f1)\n",
        "          l1.append(f2)\n",
        "          #print(len(f1))\n",
        "          #print(len(f2))\n",
        "\n",
        "      # Computing streamingMedian\n",
        "      j = 0\n",
        "      gl = []\n",
        "      while j < len(l1[0]):\n",
        "        nl = []\n",
        "        for i in range(len(l1)):\n",
        "          nl.append(l1[i][j])\n",
        "        m = streamingMedian(nl)\n",
        "        gl.append(m)\n",
        "        j += 1\n",
        "      #print(gl)\n",
        "      \n",
        "      # Converting values back to float (i.e. Reversing the Fixed Precision)\n",
        "      for i in range(len(gl)):\n",
        "        gl[i] /= (10**3)\n",
        "\n",
        "      # Reshaping tensors to the size of the tensors of original weights\n",
        "      newar = np.asarray(gl)\n",
        "      newar = np.reshape(gl, w[0][k].size())\n",
        "      print(newar.shape)\n",
        "      tens = torch.from_numpy(newar)\n",
        "      weights.append(tens)\n",
        "      \n",
        "      ix += 1\n",
        "    \n",
        "    print(len(weights))\n",
        "    '''\n",
        "    idx1 = 0\n",
        "    for k in w[idx1].keys():\n",
        "      for i in range(len(weights)):\n",
        "        new_w[i][k] = weights[i]\n",
        "      idx1 += 1\n",
        "\n",
        "    print(new_w[0])\n",
        "\n",
        "    # updating the global weights\n",
        "    weights_avg = copy.deepcopy(w[0])\n",
        "    for k in weights_avg.keys():\n",
        "      for i in range(1, len(w)):\n",
        "        weights_avg[k] += w[i][k]\n",
        "\n",
        "      weights_avg[k] = torch.div(weights_avg[k], len(w))\n",
        "    '''\n",
        "\n",
        "    # Updating Global weights with the newly computed weights\n",
        "    k = 0\n",
        "    coun = 0\n",
        "    for key, value in global_weights.items():\n",
        "      #print(key)\n",
        "      #print(global_weights[key].size())\n",
        "      #print(weights[k].size())\n",
        "      global_weights[key] = weights[k]\n",
        "      k += 1\n",
        "      coun += 1\n",
        "    #print(global_weights)\n",
        "    # move the updated weights to our model state dict\n",
        "    model.load_state_dict(global_weights)\n",
        "\n",
        "    # loss\n",
        "    loss_avg = sum(local_loss) / len(local_loss)\n",
        "    print('Round: {}... \\tAverage Loss: {}'.format(curr_round, round(loss_avg, 3)))\n",
        "    train_loss.append(loss_avg)\n",
        "\n",
        "  end = time.time()\n",
        "  fig, ax = plt.subplots()\n",
        "  x_axis = np.arange(1, rounds+1)\n",
        "  y_axis = np.array(train_loss)\n",
        "  ax.plot(x_axis, y_axis, 'tab:'+plt_color)\n",
        "\n",
        "  ax.set(xlabel='Number of Rounds', ylabel='Train Loss',\n",
        "       title=plt_title)\n",
        "  ax.grid()\n",
        "  fig.savefig(plt_title+'.jpg', format='jpg')\n",
        "  print(\"Training Done!\")\n",
        "  print(\"Total time taken to Train: {}\".format(end-start))\n",
        "  \n",
        "  return model"
      ],
      "execution_count": 17,
      "outputs": []
    },
    {
      "cell_type": "markdown",
      "metadata": {
        "id": "tUYyb4T-uXmF",
        "colab_type": "text"
      },
      "source": [
        "## Testing Loop"
      ]
    },
    {
      "cell_type": "code",
      "metadata": {
        "id": "uCcIZmO5uan9",
        "colab_type": "code",
        "colab": {}
      },
      "source": [
        "def testing(model, dataset, bs, criterion, num_classes, classes):\n",
        "  #test loss \n",
        "  test_loss = 0.0\n",
        "  correct_class = list(0. for i in range(num_classes))\n",
        "  total_class = list(0. for i in range(num_classes))\n",
        "\n",
        "  test_loader = DataLoader(dataset, batch_size=bs)\n",
        "\n",
        "  l = len(test_loader)\n",
        "  model.eval()\n",
        "  for data, labels in test_loader:\n",
        "\n",
        "    if torch.cuda.is_available():\n",
        "      data, labels = data.cuda(), labels.cuda()\n",
        "\n",
        "    output = model(data)\n",
        "    loss = criterion(output, labels)\n",
        "    test_loss += loss.item()*data.size(0)\n",
        "\n",
        "    _, pred = torch.max(output, 1)\n",
        "\n",
        "    correct_tensor = pred.eq(labels.data.view_as(pred))\n",
        "    correct = np.squeeze(correct_tensor.numpy()) if not torch.cuda.is_available() else np.squeeze(correct_tensor.cpu().numpy())\n",
        "\n",
        "    #test accuracy for each object class\n",
        "    for i in range(num_classes):\n",
        "      label = labels.data[i]\n",
        "      correct_class[label] += correct[i].item()\n",
        "      total_class[label] += 1\n",
        "    \n",
        "  # avg test loss\n",
        "  test_loss = test_loss/len(test_loader.dataset)\n",
        "  print(\"Test Loss: {:.6f}\\n\".format(test_loss))\n",
        "\n",
        "  # print test accuracy\n",
        "  for i in range(10):\n",
        "    if total_class[i]>0:\n",
        "      print('Test Accuracy of %5s: %2d%% (%2d/%2d)' % \n",
        "            (classes[i], 100 * correct_class[i] / total_class[i],\n",
        "            np.sum(correct_class[i]), np.sum(total_class[i])))\n",
        "    else:\n",
        "      print('Test Accuracy of %5s: N/A (no training examples)' % (classes[i]))\n",
        "\n",
        "  print('\\nFinal Test  Accuracy: {:.3f} ({}/{})'.format(\n",
        "        100. * np.sum(correct_class) / np.sum(total_class),\n",
        "        np.sum(correct_class), np.sum(total_class)))"
      ],
      "execution_count": 18,
      "outputs": []
    },
    {
      "cell_type": "markdown",
      "metadata": {
        "id": "4hO5oV6aXqeh",
        "colab_type": "text"
      },
      "source": [
        "## MNIST CNN on IID"
      ]
    },
    {
      "cell_type": "markdown",
      "metadata": {
        "id": "flSQv_P4zCfx",
        "colab_type": "text"
      },
      "source": [
        "### Train\n"
      ]
    },
    {
      "cell_type": "code",
      "metadata": {
        "id": "0ZalcKZtEseA",
        "colab_type": "code",
        "colab": {
          "base_uri": "https://localhost:8080/",
          "height": 1000
        },
        "outputId": "1b6f0202-84ec-4d3f-f0a5-49782e195760"
      },
      "source": [
        "# number of training rounds\n",
        "rounds = 20\n",
        "# client fraction\n",
        "C = 1\n",
        "# number of clients\n",
        "K = 24\n",
        "# number of training passes on local dataset for each round\n",
        "E = 5\n",
        "# batch size\n",
        "batch_size = 10\n",
        "# learning Rate\n",
        "\n",
        "lr=0.01\n",
        "# data partition dictionary\n",
        "iid_dict = iid_partition(mnist_data_train, 24)\n",
        "# load model\n",
        "mnist_cnn = MNIST_CNN()\n",
        "\n",
        "if torch.cuda.is_available():\n",
        "  mnist_cnn.cuda()\n",
        "\n",
        "mnist_cnn_iid_trained = training(mnist_cnn, rounds, batch_size, lr, mnist_data_train, iid_dict, C, K, E, \"MNIST CNN on IID Dataset\", \"orange\")"
      ],
      "execution_count": 19,
      "outputs": [
        {
          "output_type": "stream",
          "text": [
            "(32, 1, 5, 5)\n",
            "(32,)\n",
            "(64, 32, 5, 5)\n",
            "(64,)\n",
            "(512, 1024)\n",
            "(512,)\n",
            "(10, 512)\n",
            "(10,)\n",
            "8\n",
            "Round: 1... \tAverage Loss: 0.336\n",
            "(32, 1, 5, 5)\n",
            "(32,)\n",
            "(64, 32, 5, 5)\n",
            "(64,)\n",
            "(512, 1024)\n",
            "(512,)\n",
            "(10, 512)\n",
            "(10,)\n",
            "8\n",
            "Round: 2... \tAverage Loss: 0.194\n",
            "(32, 1, 5, 5)\n",
            "(32,)\n",
            "(64, 32, 5, 5)\n",
            "(64,)\n",
            "(512, 1024)\n",
            "(512,)\n",
            "(10, 512)\n",
            "(10,)\n",
            "8\n",
            "Round: 3... \tAverage Loss: 0.136\n",
            "(32, 1, 5, 5)\n",
            "(32,)\n",
            "(64, 32, 5, 5)\n",
            "(64,)\n",
            "(512, 1024)\n",
            "(512,)\n",
            "(10, 512)\n",
            "(10,)\n",
            "8\n",
            "Round: 4... \tAverage Loss: 0.115\n",
            "(32, 1, 5, 5)\n",
            "(32,)\n",
            "(64, 32, 5, 5)\n",
            "(64,)\n",
            "(512, 1024)\n",
            "(512,)\n",
            "(10, 512)\n",
            "(10,)\n",
            "8\n",
            "Round: 5... \tAverage Loss: 0.103\n",
            "(32, 1, 5, 5)\n",
            "(32,)\n",
            "(64, 32, 5, 5)\n",
            "(64,)\n",
            "(512, 1024)\n",
            "(512,)\n",
            "(10, 512)\n",
            "(10,)\n",
            "8\n",
            "Round: 6... \tAverage Loss: 0.096\n",
            "(32, 1, 5, 5)\n",
            "(32,)\n",
            "(64, 32, 5, 5)\n",
            "(64,)\n",
            "(512, 1024)\n",
            "(512,)\n",
            "(10, 512)\n",
            "(10,)\n",
            "8\n",
            "Round: 7... \tAverage Loss: 0.09\n",
            "(32, 1, 5, 5)\n",
            "(32,)\n",
            "(64, 32, 5, 5)\n",
            "(64,)\n",
            "(512, 1024)\n",
            "(512,)\n",
            "(10, 512)\n",
            "(10,)\n",
            "8\n",
            "Round: 8... \tAverage Loss: 0.086\n",
            "(32, 1, 5, 5)\n",
            "(32,)\n",
            "(64, 32, 5, 5)\n",
            "(64,)\n",
            "(512, 1024)\n",
            "(512,)\n",
            "(10, 512)\n",
            "(10,)\n",
            "8\n",
            "Round: 9... \tAverage Loss: 0.083\n",
            "(32, 1, 5, 5)\n",
            "(32,)\n",
            "(64, 32, 5, 5)\n",
            "(64,)\n",
            "(512, 1024)\n",
            "(512,)\n",
            "(10, 512)\n",
            "(10,)\n",
            "8\n",
            "Round: 10... \tAverage Loss: 0.081\n",
            "(32, 1, 5, 5)\n",
            "(32,)\n",
            "(64, 32, 5, 5)\n",
            "(64,)\n",
            "(512, 1024)\n",
            "(512,)\n",
            "(10, 512)\n",
            "(10,)\n",
            "8\n",
            "Round: 11... \tAverage Loss: 0.079\n",
            "(32, 1, 5, 5)\n",
            "(32,)\n",
            "(64, 32, 5, 5)\n",
            "(64,)\n",
            "(512, 1024)\n",
            "(512,)\n",
            "(10, 512)\n",
            "(10,)\n",
            "8\n",
            "Round: 12... \tAverage Loss: 0.077\n",
            "(32, 1, 5, 5)\n",
            "(32,)\n",
            "(64, 32, 5, 5)\n",
            "(64,)\n",
            "(512, 1024)\n",
            "(512,)\n",
            "(10, 512)\n",
            "(10,)\n",
            "8\n",
            "Round: 13... \tAverage Loss: 0.076\n",
            "(32, 1, 5, 5)\n",
            "(32,)\n",
            "(64, 32, 5, 5)\n",
            "(64,)\n",
            "(512, 1024)\n",
            "(512,)\n",
            "(10, 512)\n",
            "(10,)\n",
            "8\n",
            "Round: 14... \tAverage Loss: 0.075\n",
            "(32, 1, 5, 5)\n",
            "(32,)\n",
            "(64, 32, 5, 5)\n",
            "(64,)\n",
            "(512, 1024)\n",
            "(512,)\n",
            "(10, 512)\n",
            "(10,)\n",
            "8\n",
            "Round: 15... \tAverage Loss: 0.074\n",
            "(32, 1, 5, 5)\n",
            "(32,)\n",
            "(64, 32, 5, 5)\n",
            "(64,)\n",
            "(512, 1024)\n",
            "(512,)\n",
            "(10, 512)\n",
            "(10,)\n",
            "8\n",
            "Round: 16... \tAverage Loss: 0.073\n",
            "(32, 1, 5, 5)\n",
            "(32,)\n",
            "(64, 32, 5, 5)\n",
            "(64,)\n",
            "(512, 1024)\n",
            "(512,)\n",
            "(10, 512)\n",
            "(10,)\n",
            "8\n",
            "Round: 17... \tAverage Loss: 0.073\n",
            "(32, 1, 5, 5)\n",
            "(32,)\n",
            "(64, 32, 5, 5)\n",
            "(64,)\n",
            "(512, 1024)\n",
            "(512,)\n",
            "(10, 512)\n",
            "(10,)\n",
            "8\n",
            "Round: 18... \tAverage Loss: 0.072\n",
            "(32, 1, 5, 5)\n",
            "(32,)\n",
            "(64, 32, 5, 5)\n",
            "(64,)\n",
            "(512, 1024)\n",
            "(512,)\n",
            "(10, 512)\n",
            "(10,)\n",
            "8\n",
            "Round: 19... \tAverage Loss: 0.072\n",
            "(32, 1, 5, 5)\n",
            "(32,)\n",
            "(64, 32, 5, 5)\n",
            "(64,)\n",
            "(512, 1024)\n",
            "(512,)\n",
            "(10, 512)\n",
            "(10,)\n",
            "8\n",
            "Round: 20... \tAverage Loss: 0.071\n",
            "Training Done!\n",
            "Total time taken to Train: 6324.575715065002\n"
          ],
          "name": "stdout"
        },
        {
          "output_type": "display_data",
          "data": {
            "image/png": "[encoded data removed]",
            "text/plain": [
              "<Figure size 432x288 with 1 Axes>"
            ]
          },
          "metadata": {
            "tags": [],
            "needs_background": "light"
          }
        }
      ]
    },
    {
      "cell_type": "markdown",
      "metadata": {
        "id": "wNwC82przF6G",
        "colab_type": "text"
      },
      "source": [
        "### Test"
      ]
    },
    {
      "cell_type": "code",
      "metadata": {
        "id": "qB97BFs9we9w",
        "colab_type": "code",
        "colab": {
          "base_uri": "https://localhost:8080/",
          "height": 255
        },
        "outputId": "e322e4c0-8e30-49ec-8243-e129f594d025"
      },
      "source": [
        "criterion = nn.CrossEntropyLoss()\n",
        "testing(mnist_cnn_iid_trained, mnist_data_test, 128, criterion, num_classes, classes_test)"
      ],
      "execution_count": 20,
      "outputs": [
        {
          "output_type": "stream",
          "text": [
            "Test Loss: 0.830242\n",
            "\n",
            "Test Accuracy of     0: 100% (76/76)\n",
            "Test Accuracy of     1: 97% (88/90)\n",
            "Test Accuracy of     2: 100% (91/91)\n",
            "Test Accuracy of     3: 97% (71/73)\n",
            "Test Accuracy of     4: 100% (89/89)\n",
            "Test Accuracy of     5: 98% (67/68)\n",
            "Test Accuracy of     6: 98% (61/62)\n",
            "Test Accuracy of     7: 98% (80/81)\n",
            "Test Accuracy of     8: 100% (77/77)\n",
            "Test Accuracy of     9: 97% (81/83)\n",
            "\n",
            "Final Test  Accuracy: 98.861 (781.0/790.0)\n"
          ],
          "name": "stdout"
        }
      ]
    },
    {
      "cell_type": "markdown",
      "metadata": {
        "id": "uF8MdSIUYcnl",
        "colab_type": "text"
      },
      "source": [
        "## MNIST CNN on Non IID"
      ]
    },
    {
      "cell_type": "markdown",
      "metadata": {
        "id": "a6wXX7JW11bx",
        "colab_type": "text"
      },
      "source": [
        "### Train\n"
      ]
    },
    {
      "cell_type": "code",
      "metadata": {
        "id": "fCD3kBCKYfBK",
        "colab_type": "code",
        "colab": {
          "base_uri": "https://localhost:8080/",
          "height": 1000
        },
        "outputId": "d67eeaa6-52fe-41b2-b311-f923f59780ca"
      },
      "source": [
        "# number of training rounds\n",
        "rounds = 20\n",
        "# client fraction\n",
        "C = 1\n",
        "# number of clients\n",
        "K = 24\n",
        "# number of training passes on local dataset for each roung\n",
        "E = 5\n",
        "# batch size\n",
        "batch_size = 10\n",
        "# learning Rate\n",
        "lr=0.01\n",
        "# dict containing different type of data partition\n",
        "data_dict = non_iid_partition(mnist_data_train, 24, 240, 250, 10)\n",
        "# load model\n",
        "mnist_cnn = MNIST_CNN()\n",
        "\n",
        "if torch.cuda.is_available():\n",
        "  mnist_cnn.cuda()\n",
        "\n",
        "mnist_cnn_non_iid_trained = training(mnist_cnn, rounds, batch_size, lr, mnist_data_train, data_dict, C, K, E, \"MNIST CNN on Non-IID Dataset\", \"green\")\n"
      ],
      "execution_count": 19,
      "outputs": [
        {
          "output_type": "stream",
          "text": [
            "(32, 1, 5, 5)\n",
            "(32,)\n",
            "(64, 32, 5, 5)\n",
            "(64,)\n",
            "(512, 1024)\n",
            "(512,)\n",
            "(10, 512)\n",
            "(10,)\n",
            "8\n",
            "Round: 1... \tAverage Loss: 0.216\n",
            "(32, 1, 5, 5)\n",
            "(32,)\n",
            "(64, 32, 5, 5)\n",
            "(64,)\n",
            "(512, 1024)\n",
            "(512,)\n",
            "(10, 512)\n",
            "(10,)\n",
            "8\n",
            "Round: 2... \tAverage Loss: 0.182\n",
            "(32, 1, 5, 5)\n",
            "(32,)\n",
            "(64, 32, 5, 5)\n",
            "(64,)\n",
            "(512, 1024)\n",
            "(512,)\n",
            "(10, 512)\n",
            "(10,)\n",
            "8\n",
            "Round: 3... \tAverage Loss: 0.116\n",
            "(32, 1, 5, 5)\n",
            "(32,)\n",
            "(64, 32, 5, 5)\n",
            "(64,)\n",
            "(512, 1024)\n",
            "(512,)\n",
            "(10, 512)\n",
            "(10,)\n",
            "8\n",
            "Round: 4... \tAverage Loss: 0.094\n",
            "(32, 1, 5, 5)\n",
            "(32,)\n",
            "(64, 32, 5, 5)\n",
            "(64,)\n",
            "(512, 1024)\n",
            "(512,)\n",
            "(10, 512)\n",
            "(10,)\n",
            "8\n",
            "Round: 5... \tAverage Loss: 0.084\n",
            "(32, 1, 5, 5)\n",
            "(32,)\n",
            "(64, 32, 5, 5)\n",
            "(64,)\n",
            "(512, 1024)\n",
            "(512,)\n",
            "(10, 512)\n",
            "(10,)\n",
            "8\n",
            "Round: 6... \tAverage Loss: 0.076\n",
            "(32, 1, 5, 5)\n",
            "(32,)\n",
            "(64, 32, 5, 5)\n",
            "(64,)\n",
            "(512, 1024)\n",
            "(512,)\n",
            "(10, 512)\n",
            "(10,)\n",
            "8\n",
            "Round: 7... \tAverage Loss: 0.072\n",
            "(32, 1, 5, 5)\n",
            "(32,)\n",
            "(64, 32, 5, 5)\n",
            "(64,)\n",
            "(512, 1024)\n",
            "(512,)\n",
            "(10, 512)\n",
            "(10,)\n",
            "8\n",
            "Round: 8... \tAverage Loss: 0.069\n",
            "(32, 1, 5, 5)\n",
            "(32,)\n",
            "(64, 32, 5, 5)\n",
            "(64,)\n",
            "(512, 1024)\n",
            "(512,)\n",
            "(10, 512)\n",
            "(10,)\n",
            "8\n",
            "Round: 9... \tAverage Loss: 0.067\n",
            "(32, 1, 5, 5)\n",
            "(32,)\n",
            "(64, 32, 5, 5)\n",
            "(64,)\n",
            "(512, 1024)\n",
            "(512,)\n",
            "(10, 512)\n",
            "(10,)\n",
            "8\n",
            "Round: 10... \tAverage Loss: 0.065\n",
            "(32, 1, 5, 5)\n",
            "(32,)\n",
            "(64, 32, 5, 5)\n",
            "(64,)\n",
            "(512, 1024)\n",
            "(512,)\n",
            "(10, 512)\n",
            "(10,)\n",
            "8\n",
            "Round: 11... \tAverage Loss: 0.063\n",
            "(32, 1, 5, 5)\n",
            "(32,)\n",
            "(64, 32, 5, 5)\n",
            "(64,)\n",
            "(512, 1024)\n",
            "(512,)\n",
            "(10, 512)\n",
            "(10,)\n",
            "8\n",
            "Round: 12... \tAverage Loss: 0.062\n",
            "(32, 1, 5, 5)\n",
            "(32,)\n",
            "(64, 32, 5, 5)\n",
            "(64,)\n",
            "(512, 1024)\n",
            "(512,)\n",
            "(10, 512)\n",
            "(10,)\n",
            "8\n",
            "Round: 13... \tAverage Loss: 0.061\n",
            "(32, 1, 5, 5)\n",
            "(32,)\n",
            "(64, 32, 5, 5)\n",
            "(64,)\n",
            "(512, 1024)\n",
            "(512,)\n",
            "(10, 512)\n",
            "(10,)\n",
            "8\n",
            "Round: 14... \tAverage Loss: 0.06\n",
            "(32, 1, 5, 5)\n",
            "(32,)\n",
            "(64, 32, 5, 5)\n",
            "(64,)\n",
            "(512, 1024)\n",
            "(512,)\n",
            "(10, 512)\n",
            "(10,)\n",
            "8\n",
            "Round: 15... \tAverage Loss: 0.06\n",
            "(32, 1, 5, 5)\n",
            "(32,)\n",
            "(64, 32, 5, 5)\n",
            "(64,)\n",
            "(512, 1024)\n",
            "(512,)\n",
            "(10, 512)\n",
            "(10,)\n",
            "8\n",
            "Round: 16... \tAverage Loss: 0.059\n",
            "(32, 1, 5, 5)\n",
            "(32,)\n",
            "(64, 32, 5, 5)\n",
            "(64,)\n",
            "(512, 1024)\n",
            "(512,)\n",
            "(10, 512)\n",
            "(10,)\n",
            "8\n",
            "Round: 17... \tAverage Loss: 0.06\n",
            "(32, 1, 5, 5)\n",
            "(32,)\n",
            "(64, 32, 5, 5)\n",
            "(64,)\n",
            "(512, 1024)\n",
            "(512,)\n",
            "(10, 512)\n",
            "(10,)\n",
            "8\n",
            "Round: 18... \tAverage Loss: 0.059\n",
            "(32, 1, 5, 5)\n",
            "(32,)\n",
            "(64, 32, 5, 5)\n",
            "(64,)\n",
            "(512, 1024)\n",
            "(512,)\n",
            "(10, 512)\n",
            "(10,)\n",
            "8\n",
            "Round: 19... \tAverage Loss: 0.059\n",
            "(32, 1, 5, 5)\n",
            "(32,)\n",
            "(64, 32, 5, 5)\n",
            "(64,)\n",
            "(512, 1024)\n",
            "(512,)\n",
            "(10, 512)\n",
            "(10,)\n",
            "8\n",
            "Round: 20... \tAverage Loss: 0.058\n",
            "Training Done!\n",
            "Total time taken to Train: 8476.0664768219\n"
          ],
          "name": "stdout"
        },
        {
          "output_type": "display_data",
          "data": {
            "image/png": "[encoded data removed]",
            "text/plain": [
              "<Figure size 432x288 with 1 Axes>"
            ]
          },
          "metadata": {
            "tags": [],
            "needs_background": "light"
          }
        }
      ]
    },
    {
      "cell_type": "markdown",
      "metadata": {
        "id": "4C68J-Kk14dB",
        "colab_type": "text"
      },
      "source": [
        "### Test"
      ]
    },
    {
      "cell_type": "code",
      "metadata": {
        "id": "_yQ9GiAZ15jE",
        "colab_type": "code",
        "colab": {
          "base_uri": "https://localhost:8080/",
          "height": 255
        },
        "outputId": "359ac271-d3e2-477b-94a3-93cb43ff2038"
      },
      "source": [
        "criterion = nn.CrossEntropyLoss()\n",
        "testing(mnist_cnn_non_iid_trained, mnist_data_test, 128, criterion, num_classes, classes_test)"
      ],
      "execution_count": 20,
      "outputs": [
        {
          "output_type": "stream",
          "text": [
            "Test Loss: 1.062434\n",
            "\n",
            "Test Accuracy of     0: 97% (74/76)\n",
            "Test Accuracy of     1: 97% (88/90)\n",
            "Test Accuracy of     2: 98% (90/91)\n",
            "Test Accuracy of     3: 90% (66/73)\n",
            "Test Accuracy of     4: 100% (89/89)\n",
            "Test Accuracy of     5: 97% (66/68)\n",
            "Test Accuracy of     6: 98% (61/62)\n",
            "Test Accuracy of     7: 98% (80/81)\n",
            "Test Accuracy of     8: 100% (77/77)\n",
            "Test Accuracy of     9: 98% (82/83)\n",
            "\n",
            "Final Test  Accuracy: 97.848 (773.0/790.0)\n"
          ],
          "name": "stdout"
        }
      ]
    },
    {
      "cell_type": "markdown",
      "metadata": {
        "id": "z_jifdzniuhm",
        "colab_type": "text"
      },
      "source": [
        "## MNIST MLP on IID"
      ]
    },
    {
      "cell_type": "markdown",
      "metadata": {
        "id": "uh-te0Od2XGO",
        "colab_type": "text"
      },
      "source": [
        "### Train"
      ]
    },
    {
      "cell_type": "code",
      "metadata": {
        "id": "UmpWmKOQixVV",
        "colab_type": "code",
        "colab": {
          "base_uri": "https://localhost:8080/",
          "height": 1000
        },
        "outputId": "3dfc2f30-dd07-4dc1-d07f-c82d007d82b2"
      },
      "source": [
        "# number of training rounds\n",
        "rounds = 20\n",
        "# client fraction\n",
        "C = 1\n",
        "# number of clients\n",
        "K = 24\n",
        "# number of training passes on local dataset for each round\n",
        "E = 5\n",
        "# batch size\n",
        "batch_size = 10\n",
        "# learning Rate\n",
        "lr=0.03\n",
        "# dict containing different type of data partition\n",
        "data_dict = iid_partition(mnist_data_train, 24)\n",
        "# load model\n",
        "mnist_mlp = MNIST_2NN()\n",
        "\n",
        "if torch.cuda.is_available():\n",
        "  mnist_mlp.cuda()\n",
        "\n",
        "mnist_mlp_iid_trained = training(mnist_mlp, rounds, batch_size, lr, mnist_data_train, data_dict, C, K, E, \"MNIST MLP on IID Dataset\", \"orange\")\n"
      ],
      "execution_count": 19,
      "outputs": [
        {
          "output_type": "stream",
          "text": [
            "(200, 784)\n",
            "(200,)\n",
            "(200, 200)\n",
            "(200,)\n",
            "(10, 200)\n",
            "(10,)\n",
            "6\n",
            "Round: 1... \tAverage Loss: 0.289\n",
            "(200, 784)\n",
            "(200,)\n",
            "(200, 200)\n",
            "(200,)\n",
            "(10, 200)\n",
            "(10,)\n",
            "6\n",
            "Round: 2... \tAverage Loss: 0.2\n",
            "(200, 784)\n",
            "(200,)\n",
            "(200, 200)\n",
            "(200,)\n",
            "(10, 200)\n",
            "(10,)\n",
            "6\n",
            "Round: 3... \tAverage Loss: 0.169\n",
            "(200, 784)\n",
            "(200,)\n",
            "(200, 200)\n",
            "(200,)\n",
            "(10, 200)\n",
            "(10,)\n",
            "6\n",
            "Round: 4... \tAverage Loss: 0.155\n",
            "(200, 784)\n",
            "(200,)\n",
            "(200, 200)\n",
            "(200,)\n",
            "(10, 200)\n",
            "(10,)\n",
            "6\n",
            "Round: 5... \tAverage Loss: 0.147\n",
            "(200, 784)\n",
            "(200,)\n",
            "(200, 200)\n",
            "(200,)\n",
            "(10, 200)\n",
            "(10,)\n",
            "6\n",
            "Round: 6... \tAverage Loss: 0.142\n",
            "(200, 784)\n",
            "(200,)\n",
            "(200, 200)\n",
            "(200,)\n",
            "(10, 200)\n",
            "(10,)\n",
            "6\n",
            "Round: 7... \tAverage Loss: 0.139\n",
            "(200, 784)\n",
            "(200,)\n",
            "(200, 200)\n",
            "(200,)\n",
            "(10, 200)\n",
            "(10,)\n",
            "6\n",
            "Round: 8... \tAverage Loss: 0.137\n",
            "(200, 784)\n",
            "(200,)\n",
            "(200, 200)\n",
            "(200,)\n",
            "(10, 200)\n",
            "(10,)\n",
            "6\n",
            "Round: 9... \tAverage Loss: 0.135\n",
            "(200, 784)\n",
            "(200,)\n",
            "(200, 200)\n",
            "(200,)\n",
            "(10, 200)\n",
            "(10,)\n",
            "6\n",
            "Round: 10... \tAverage Loss: 0.134\n",
            "(200, 784)\n",
            "(200,)\n",
            "(200, 200)\n",
            "(200,)\n",
            "(10, 200)\n",
            "(10,)\n",
            "6\n",
            "Round: 11... \tAverage Loss: 0.134\n",
            "(200, 784)\n",
            "(200,)\n",
            "(200, 200)\n",
            "(200,)\n",
            "(10, 200)\n",
            "(10,)\n",
            "6\n",
            "Round: 12... \tAverage Loss: 0.132\n",
            "(200, 784)\n",
            "(200,)\n",
            "(200, 200)\n",
            "(200,)\n",
            "(10, 200)\n",
            "(10,)\n",
            "6\n",
            "Round: 13... \tAverage Loss: 0.132\n",
            "(200, 784)\n",
            "(200,)\n",
            "(200, 200)\n",
            "(200,)\n",
            "(10, 200)\n",
            "(10,)\n",
            "6\n",
            "Round: 14... \tAverage Loss: 0.131\n",
            "(200, 784)\n",
            "(200,)\n",
            "(200, 200)\n",
            "(200,)\n",
            "(10, 200)\n",
            "(10,)\n",
            "6\n",
            "Round: 15... \tAverage Loss: 0.131\n",
            "(200, 784)\n",
            "(200,)\n",
            "(200, 200)\n",
            "(200,)\n",
            "(10, 200)\n",
            "(10,)\n",
            "6\n",
            "Round: 16... \tAverage Loss: 0.131\n",
            "(200, 784)\n",
            "(200,)\n",
            "(200, 200)\n",
            "(200,)\n",
            "(10, 200)\n",
            "(10,)\n",
            "6\n",
            "Round: 17... \tAverage Loss: 0.131\n",
            "(200, 784)\n",
            "(200,)\n",
            "(200, 200)\n",
            "(200,)\n",
            "(10, 200)\n",
            "(10,)\n",
            "6\n",
            "Round: 18... \tAverage Loss: 0.13\n",
            "(200, 784)\n",
            "(200,)\n",
            "(200, 200)\n",
            "(200,)\n",
            "(10, 200)\n",
            "(10,)\n",
            "6\n",
            "Round: 19... \tAverage Loss: 0.13\n",
            "(200, 784)\n",
            "(200,)\n",
            "(200, 200)\n",
            "(200,)\n",
            "(10, 200)\n",
            "(10,)\n",
            "6\n",
            "Round: 20... \tAverage Loss: 0.13\n",
            "Training Done!\n",
            "Total time taken to Train: 2854.7621557712555\n"
          ],
          "name": "stdout"
        },
        {
          "output_type": "display_data",
          "data": {
            "image/png": "[encoded data removed]",
            "text/plain": [
              "<Figure size 432x288 with 1 Axes>"
            ]
          },
          "metadata": {
            "tags": [],
            "needs_background": "light"
          }
        }
      ]
    },
    {
      "cell_type": "markdown",
      "metadata": {
        "id": "aTBsL3-72PPd",
        "colab_type": "text"
      },
      "source": [
        "### Test"
      ]
    },
    {
      "cell_type": "code",
      "metadata": {
        "id": "a9G4j5L62OrS",
        "colab_type": "code",
        "colab": {
          "base_uri": "https://localhost:8080/",
          "height": 255
        },
        "outputId": "8bdc899d-e4bd-43fe-c888-e4f68e7e30dc"
      },
      "source": [
        "criterion = nn.CrossEntropyLoss()\n",
        "testing(mnist_mlp_iid_trained, mnist_data_test, 128, criterion, num_classes, classes_test)"
      ],
      "execution_count": 20,
      "outputs": [
        {
          "output_type": "stream",
          "text": [
            "Test Loss: 3.285374\n",
            "\n",
            "Test Accuracy of     0: 98% (75/76)\n",
            "Test Accuracy of     1: 97% (88/90)\n",
            "Test Accuracy of     2: 97% (89/91)\n",
            "Test Accuracy of     3: 87% (64/73)\n",
            "Test Accuracy of     4: 96% (86/89)\n",
            "Test Accuracy of     5: 97% (66/68)\n",
            "Test Accuracy of     6: 91% (57/62)\n",
            "Test Accuracy of     7: 93% (76/81)\n",
            "Test Accuracy of     8: 85% (66/77)\n",
            "Test Accuracy of     9: 96% (80/83)\n",
            "\n",
            "Final Test  Accuracy: 94.557 (747.0/790.0)\n"
          ],
          "name": "stdout"
        }
      ]
    },
    {
      "cell_type": "markdown",
      "metadata": {
        "id": "J8jzEyO0iywz",
        "colab_type": "text"
      },
      "source": [
        "## MNIST MLP on Non IID"
      ]
    },
    {
      "cell_type": "markdown",
      "metadata": {
        "id": "pJFepr3y2bF-",
        "colab_type": "text"
      },
      "source": [
        "### Train"
      ]
    },
    {
      "cell_type": "code",
      "metadata": {
        "id": "EBKO44Hgi1Uh",
        "colab_type": "code",
        "colab": {
          "base_uri": "https://localhost:8080/",
          "height": 1000
        },
        "outputId": "bc79c64c-0e84-401f-f5d0-9b90c4b61221"
      },
      "source": [
        "# number of training rounds\n",
        "rounds = 20\n",
        "# client fraction\n",
        "C = 1\n",
        "# number of clients\n",
        "K = 24\n",
        "# number of training passes on local dataset for each roung\n",
        "E = 5\n",
        "# batch size\n",
        "batch_size = 10\n",
        "# learning Rate\n",
        "lr=0.05\n",
        "# dict containing different type of data partition\n",
        "data_dict = non_iid_partition(mnist_data_train, 24, 240, 250, 10)\n",
        "# load model\n",
        "mnist_mlp = MNIST_2NN()\n",
        "\n",
        "if torch.cuda.is_available():\n",
        "  mnist_mlp.cuda()\n",
        "\n",
        "mnist_mlp_non_iid_trained = training(mnist_mlp, rounds, batch_size, lr, mnist_data_train, data_dict, C, K, E, \"MNIST MLP on Non-IID Dataset\", \"green\")"
      ],
      "execution_count": 19,
      "outputs": [
        {
          "output_type": "stream",
          "text": [
            "(200, 784)\n",
            "(200,)\n",
            "(200, 200)\n",
            "(200,)\n",
            "(10, 200)\n",
            "(10,)\n",
            "6\n",
            "Round: 1... \tAverage Loss: 0.179\n",
            "(200, 784)\n",
            "(200,)\n",
            "(200, 200)\n",
            "(200,)\n",
            "(10, 200)\n",
            "(10,)\n",
            "6\n",
            "Round: 2... \tAverage Loss: 0.144\n",
            "(200, 784)\n",
            "(200,)\n",
            "(200, 200)\n",
            "(200,)\n",
            "(10, 200)\n",
            "(10,)\n",
            "6\n",
            "Round: 3... \tAverage Loss: 0.123\n",
            "(200, 784)\n",
            "(200,)\n",
            "(200, 200)\n",
            "(200,)\n",
            "(10, 200)\n",
            "(10,)\n",
            "6\n",
            "Round: 4... \tAverage Loss: 0.111\n",
            "(200, 784)\n",
            "(200,)\n",
            "(200, 200)\n",
            "(200,)\n",
            "(10, 200)\n",
            "(10,)\n",
            "6\n",
            "Round: 5... \tAverage Loss: 0.107\n",
            "(200, 784)\n",
            "(200,)\n",
            "(200, 200)\n",
            "(200,)\n",
            "(10, 200)\n",
            "(10,)\n",
            "6\n",
            "Round: 6... \tAverage Loss: 0.103\n",
            "(200, 784)\n",
            "(200,)\n",
            "(200, 200)\n",
            "(200,)\n",
            "(10, 200)\n",
            "(10,)\n",
            "6\n",
            "Round: 7... \tAverage Loss: 0.1\n",
            "(200, 784)\n",
            "(200,)\n",
            "(200, 200)\n",
            "(200,)\n",
            "(10, 200)\n",
            "(10,)\n",
            "6\n",
            "Round: 8... \tAverage Loss: 0.099\n",
            "(200, 784)\n",
            "(200,)\n",
            "(200, 200)\n",
            "(200,)\n",
            "(10, 200)\n",
            "(10,)\n",
            "6\n",
            "Round: 9... \tAverage Loss: 0.098\n",
            "(200, 784)\n",
            "(200,)\n",
            "(200, 200)\n",
            "(200,)\n",
            "(10, 200)\n",
            "(10,)\n",
            "6\n",
            "Round: 10... \tAverage Loss: 0.096\n",
            "(200, 784)\n",
            "(200,)\n",
            "(200, 200)\n",
            "(200,)\n",
            "(10, 200)\n",
            "(10,)\n",
            "6\n",
            "Round: 11... \tAverage Loss: 0.096\n",
            "(200, 784)\n",
            "(200,)\n",
            "(200, 200)\n",
            "(200,)\n",
            "(10, 200)\n",
            "(10,)\n",
            "6\n",
            "Round: 12... \tAverage Loss: 0.097\n",
            "(200, 784)\n",
            "(200,)\n",
            "(200, 200)\n",
            "(200,)\n",
            "(10, 200)\n",
            "(10,)\n",
            "6\n",
            "Round: 13... \tAverage Loss: 0.095\n",
            "(200, 784)\n",
            "(200,)\n",
            "(200, 200)\n",
            "(200,)\n",
            "(10, 200)\n",
            "(10,)\n",
            "6\n",
            "Round: 14... \tAverage Loss: 0.095\n",
            "(200, 784)\n",
            "(200,)\n",
            "(200, 200)\n",
            "(200,)\n",
            "(10, 200)\n",
            "(10,)\n",
            "6\n",
            "Round: 15... \tAverage Loss: 0.095\n",
            "(200, 784)\n",
            "(200,)\n",
            "(200, 200)\n",
            "(200,)\n",
            "(10, 200)\n",
            "(10,)\n",
            "6\n",
            "Round: 16... \tAverage Loss: 0.095\n",
            "(200, 784)\n",
            "(200,)\n",
            "(200, 200)\n",
            "(200,)\n",
            "(10, 200)\n",
            "(10,)\n",
            "6\n",
            "Round: 17... \tAverage Loss: 0.094\n",
            "(200, 784)\n",
            "(200,)\n",
            "(200, 200)\n",
            "(200,)\n",
            "(10, 200)\n",
            "(10,)\n",
            "6\n",
            "Round: 18... \tAverage Loss: 0.094\n",
            "(200, 784)\n",
            "(200,)\n",
            "(200, 200)\n",
            "(200,)\n",
            "(10, 200)\n",
            "(10,)\n",
            "6\n",
            "Round: 19... \tAverage Loss: 0.095\n",
            "(200, 784)\n",
            "(200,)\n",
            "(200, 200)\n",
            "(200,)\n",
            "(10, 200)\n",
            "(10,)\n",
            "6\n",
            "Round: 20... \tAverage Loss: 0.094\n",
            "Training Done!\n",
            "Total time taken to Train: 2808.30668759346\n"
          ],
          "name": "stdout"
        },
        {
          "output_type": "display_data",
          "data": {
            "image/png": "[encoded data removed]",
            "text/plain": [
              "<Figure size 432x288 with 1 Axes>"
            ]
          },
          "metadata": {
            "tags": [],
            "needs_background": "light"
          }
        }
      ]
    },
    {
      "cell_type": "markdown",
      "metadata": {
        "id": "jmuQYPbF2mes",
        "colab_type": "text"
      },
      "source": [
        "### Test"
      ]
    },
    {
      "cell_type": "code",
      "metadata": {
        "id": "0tKMlJyF2nGN",
        "colab_type": "code",
        "colab": {
          "base_uri": "https://localhost:8080/",
          "height": 255
        },
        "outputId": "155b0502-92a8-469d-d447-b753d02fe6d4"
      },
      "source": [
        "criterion = nn.CrossEntropyLoss()\n",
        "testing(mnist_mlp_non_iid_trained, mnist_data_test, 128, criterion, num_classes, classes_test)"
      ],
      "execution_count": 20,
      "outputs": [
        {
          "output_type": "stream",
          "text": [
            "Test Loss: 4.032918\n",
            "\n",
            "Test Accuracy of     0: 93% (71/76)\n",
            "Test Accuracy of     1: 97% (88/90)\n",
            "Test Accuracy of     2: 96% (88/91)\n",
            "Test Accuracy of     3: 72% (53/73)\n",
            "Test Accuracy of     4: 96% (86/89)\n",
            "Test Accuracy of     5: 95% (65/68)\n",
            "Test Accuracy of     6: 95% (59/62)\n",
            "Test Accuracy of     7: 93% (76/81)\n",
            "Test Accuracy of     8: 85% (66/77)\n",
            "Test Accuracy of     9: 97% (81/83)\n",
            "\n",
            "Final Test  Accuracy: 92.785 (733.0/790.0)\n"
          ],
          "name": "stdout"
        }
      ]
    },
    {
      "cell_type": "markdown",
      "metadata": {
        "id": "VOx3k6Ar4kZ6",
        "colab_type": "text"
      },
      "source": [
        "# Summary of Experiments and Results"
      ]
    },
    {
      "cell_type": "markdown",
      "metadata": {
        "id": "nkTB91Ls4qIT",
        "colab_type": "text"
      },
      "source": [
        "I ran 4 different experiments for the Federated Averaging Paper (Linked -> [here](https://arxiv.org/pdf/1602.05629.pdf)). \n",
        "\n",
        "You can look at the training graph with the training for each experiment above.\n",
        " \n",
        "    **MNIST CNN**\n",
        "\n",
        "      - IID Parition: (Test Accuracy 99.434%)\n",
        "      - non-IID Parition: (Test Accuracy 98.734%)\n",
        "\n",
        "    **MNIST MLP**\n",
        "      - IID Parition: (Test Accuracy 97.848%)\n",
        "      - non-IID Parition: (Tes0t Accuracy 94.684%)\n",
        "\n",
        "---\n",
        "\n",
        "### Observations\n",
        "\n",
        "#### Model Architecture\n",
        "\n",
        "The first thing that I observed here was, in the paper for the CNN architecture, the authors have reported that total parameters as **1,663,370**. After my implementation, the total parameters that I got were **582,026**\n",
        "\n",
        "Authors, haven't used Dropout layers but I noticed a significant improvement in training with a single dropout layer after the second CNN layer with a drop probability of **0.2**.\n",
        "\n",
        "#### Hyperparameters\n",
        "\n",
        "Authors have reported the following hyperparameters for their CNN model \n",
        "\n",
        "    IID Partition\n",
        "      - Learning Rate: 0.215\n",
        "      - Local Epochs: 1, 5, 25, 50, 100, 200, 400\n",
        "      - Local Batch Size: 10\n",
        "      - Client Fraction: 0.1\n",
        "      - Optimizer: SGD\n",
        "\n",
        "    non-IID Partition\n",
        "        - Learning Rate: 0.1\n",
        "        - Local Epochs: 1, 5, 25, 50, 100, 200, 400\n",
        "        - Local Batch Size: 10\n",
        "        - Client Fraction: 0.1\n",
        "        - Optimizer: SGD\n",
        "\n",
        "I noted that, using the following hyperparameters, my network gets stuck in a local minima and doesn't converge. The learning rate used by the authors seems to be very high for deep learning task\n",
        "\n",
        "*The hyperparameters that worked for me on CNN are the following*\n",
        "\n",
        "    - Learning Rate: 0.01\n",
        "    - Local Epochs: 5\n",
        "    - Local Batch Size: 10\n",
        "    - Client Fraction: 0.1\n",
        "    - Optimizer: SGD\n",
        "\n",
        "\n",
        "For CNN trained on non-IID data partition, with my hyperparameters, the test accuracy can be achieved with just 50 rounds of communication instead of 100.\n",
        "\n",
        "\n",
        "For, MLP model, I noticed that with learning rate of **0.01**, the network was getting stuck in a local minima. I experimented with **0.03** and **0.05** learning rate that gave me better results on the MLP model\n",
        "---\n",
        "\n",
        "**Big thanks to https://github.com/SarodYatawatta/federated-pytorch-test for providing an easy to understand implementation of federated learning to get me started in this field.**"
      ]
    }
  ]
}